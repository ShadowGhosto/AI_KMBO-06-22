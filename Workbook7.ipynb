{
 "cells": [
  {
   "cell_type": "markdown",
   "id": "bd85c9c8-4161-44cc-acf4-b4a8936f88e0",
   "metadata": {},
   "source": [
    "## Задание 1\n"
   ]
  },
  {
   "cell_type": "code",
   "execution_count": 1,
   "id": "ed47e940-e32a-4eea-9cc2-a17b8c9dd8b8",
   "metadata": {},
   "outputs": [],
   "source": [
    "import numpy as np\n",
    "\n",
    "class OurNeuralNetwork:\n",
    "    def __init__(self):\n",
    "        self.weights = np.array([0.5, 0.5, 0.5])\n",
    "        self.bias = 0\n",
    "\n",
    "    def feedforward(self, inputs):\n",
    "        total = np.dot(self.weights, inputs) + self.bias\n",
    "        return self.sigmoid(total)\n",
    "\n",
    "    def sigmoid(self, x):\n",
    "        return 1 / (1 + np.exp(-x))\n",
    "\n",
    "class NeuralNetwork1:\n",
    "    def __init__(self):\n",
    "        self.weights = np.array([0.5, 0.5, 0.5])\n",
    "        self.bias = 0\n",
    "\n",
    "    def feedforward(self, inputs):\n",
    "        total = np.dot(self.weights, inputs) + self.bias\n",
    "        return self.sigmoid(total)\n",
    "\n",
    "    def sigmoid(self, x):\n",
    "        return 1 / (1 + np.exp(-x))\n",
    "\n",
    "class NeuralNetwork2:\n",
    "    def __init__(self):\n",
    "        self.weights = np.array([1, 0])\n",
    "        self.bias = 1\n",
    "\n",
    "    def feedforward(self, inputs):\n",
    "        total = np.dot(self.weights, inputs) + self.bias\n",
    "        return self.sigmoid(total)\n",
    "\n",
    "    def sigmoid(self, x):\n",
    "        return 1 / (1 + np.exp(-x))\n"
   ]
  },
  {
   "cell_type": "code",
   "execution_count": 2,
   "id": "047d866d-33d9-4c68-b701-c6f20b11668a",
   "metadata": {},
   "outputs": [
    {
     "name": "stdout",
     "output_type": "stream",
     "text": [
      "Результат для OurNeuralNetwork: 0.9525741268224334\n",
      "Результат для NeuralNetwork1: 0.9525741268224334\n",
      "Результат для NeuralNetwork2: 0.8807970779778823\n"
     ]
    }
   ],
   "source": [
    "# Создаем экземпляры нейронных сетей\n",
    "network1 = OurNeuralNetwork()\n",
    "network2 = NeuralNetwork1()\n",
    "network3 = NeuralNetwork2()\n",
    "\n",
    "# Определяем входные данные\n",
    "inputs = np.array([1, 2, 3])  # для network1 и network2\n",
    "inputs2 = np.array([1, 2])  # для network3\n",
    "\n",
    "# Получаем результаты\n",
    "result1 = network1.feedforward(inputs)\n",
    "result2 = network2.feedforward(inputs)\n",
    "result3 = network3.feedforward(inputs2)\n",
    "\n",
    "print(\"Результат для OurNeuralNetwork:\", result1)\n",
    "print(\"Результат для NeuralNetwork1:\", result2)\n",
    "print(\"Результат для NeuralNetwork2:\", result3)"
   ]
  },
  {
   "cell_type": "markdown",
   "id": "eab06058-a275-4c9e-9907-2f13591f9a6a",
   "metadata": {},
   "source": [
    "## Задание 2\n"
   ]
  },
  {
   "cell_type": "code",
   "execution_count": 3,
   "id": "c034f761-9040-492e-9f07-87efde050e77",
   "metadata": {},
   "outputs": [],
   "source": [
    "import numpy as np\n",
    "\n",
    "class SigmoidNeuralNetwork:\n",
    "    def __init__(self, weights, bias):\n",
    "        self.weights = weights\n",
    "        self.bias = bias\n",
    "\n",
    "    def feedforward(self, inputs):\n",
    "        total = np.dot(self.weights, inputs) + self.bias\n",
    "        return self.sigmoid(total)\n",
    "\n",
    "    def sigmoid(self, x):\n",
    "        return 1 / (1 + np.exp(-x))\n",
    "\n",
    "class TanhNeuralNetwork:\n",
    "    def __init__(self, weights, bias):\n",
    "        self.weights = weights\n",
    "        self.bias = bias\n",
    "\n",
    "    def feedforward(self, inputs):\n",
    "        total = np.dot(self.weights, inputs) + self.bias\n",
    "        return self.tanh(total)\n",
    "\n",
    "    def tanh(self, x):\n",
    "        return np.tanh(x)\n",
    "\n",
    "class ReLUNeuralNetwork:\n",
    "    def __init__(self, weights, bias):\n",
    "        self.weights = weights\n",
    "        self.bias = bias\n",
    "\n",
    "    def feedforward(self, inputs):\n",
    "        total = np.dot(self.weights, inputs) + self.bias\n",
    "        return self.relu(total)\n",
    "\n",
    "    def relu(self, x):\n",
    "        return np.maximum(0, x)\n"
   ]
  },
  {
   "cell_type": "code",
   "execution_count": 4,
   "id": "213391a2-4c10-418b-96dd-58738897745a",
   "metadata": {},
   "outputs": [
    {
     "name": "stdout",
     "output_type": "stream",
     "text": [
      "Результат для SigmoidNeuralNetwork: 0.9525741268224334\n",
      "Результат для TanhNeuralNetwork: 0.9950547536867305\n",
      "Результат для ReLUNeuralNetwork: 3.0\n"
     ]
    }
   ],
   "source": [
    "# Определяем веса и смещение\n",
    "weights = np.array([0.5, 0.5, 0.5])\n",
    "bias = 0\n",
    "\n",
    "# Создаем экземпляры нейронных сетей\n",
    "network1 = SigmoidNeuralNetwork(weights, bias)\n",
    "network2 = TanhNeuralNetwork(weights, bias)\n",
    "network3 = ReLUNeuralNetwork(weights, bias)\n",
    "\n",
    "# Определяем входные данные\n",
    "inputs = np.array([1, 2, 3])\n",
    "\n",
    "# Получаем результаты\n",
    "result1 = network1.feedforward(inputs)\n",
    "result2 = network2.feedforward(inputs)\n",
    "result3 = network3.feedforward(inputs)\n",
    "\n",
    "print(\"Результат для SigmoidNeuralNetwork:\", result1)\n",
    "print(\"Результат для TanhNeuralNetwork:\", result2)\n",
    "print(\"Результат для ReLUNeuralNetwork:\", result3)\n"
   ]
  },
  {
   "cell_type": "markdown",
   "id": "6b74f5c2-9f23-44d0-8992-b8f9269f1984",
   "metadata": {},
   "source": [
    "## Задание 3\n"
   ]
  },
  {
   "cell_type": "code",
   "execution_count": 5,
   "id": "ab494abc-5be4-481d-b8e5-3d7f59c12408",
   "metadata": {},
   "outputs": [],
   "source": [
    "import pandas as pd\n",
    "from sklearn.model_selection import train_test_split\n",
    "from sklearn.neural_network import MLPClassifier, MLPRegressor\n",
    "from sklearn.metrics import classification_report, mean_squared_error\n",
    "\n",
    "# Загрузка данных\n",
    "iris_data = pd.read_csv('iris.csv')\n",
    "salary_data = pd.read_csv('Salary_Data.csv')"
   ]
  },
  {
   "cell_type": "code",
   "execution_count": 32,
   "id": "357f63cc-c85b-4b4c-8c1d-cd3774489426",
   "metadata": {},
   "outputs": [
    {
     "name": "stdout",
     "output_type": "stream",
     "text": [
      "              precision    recall  f1-score   support\n",
      "\n",
      "      Setosa       1.00      1.00      1.00        10\n",
      "  Versicolor       1.00      1.00      1.00         9\n",
      "   Virginica       1.00      1.00      1.00        11\n",
      "\n",
      "    accuracy                           1.00        30\n",
      "   macro avg       1.00      1.00      1.00        30\n",
      "weighted avg       1.00      1.00      1.00        30\n",
      "\n",
      "Test Accuracy : 1.000\n",
      "Training Accuracy : 0.975\n",
      "Loss :  0.1254697280899485\n",
      "Number of Coefs :  2\n",
      "Number of Intercepts :  2\n",
      "Number of Iterations for Which Estimator Ran :  300\n",
      "Name of Output Layer Activation Function :  softmax\n"
     ]
    },
    {
     "name": "stderr",
     "output_type": "stream",
     "text": [
      "C:\\Users\\masiv\\AppData\\Local\\Programs\\Python\\Python311\\Lib\\site-packages\\sklearn\\neural_network\\_multilayer_perceptron.py:691: ConvergenceWarning: Stochastic Optimizer: Maximum iterations (300) reached and the optimization hasn't converged yet.\n",
      "  warnings.warn(\n"
     ]
    }
   ],
   "source": [
    "# Подготовка данных\n",
    "X = iris_data.drop('variety', axis=1)\n",
    "y = iris_data['variety']\n",
    "X_train, X_test, y_train, y_test = train_test_split(X, y, test_size=0.2, random_state=42)\n",
    "\n",
    "# Создание и обучение модели\n",
    "mlp_classifier = MLPClassifier(random_state=42, max_iter=300)\n",
    "mlp_classifier.fit(X_train, y_train)\n",
    "\n",
    "# Предсказание и оценка модели\n",
    "y_pred = mlp_classifier.predict(X_test)\n",
    "print(classification_report(y_test, y_pred))\n",
    "## Метод Score для оценки точности моделей классификации.\n",
    "print('Test Accuracy : %.3f'%mlp_classifier.score(X_test, y_test))\n",
    "print('Training Accuracy : %.3f'%mlp_classifier.score(X_train, y_train))\n",
    "print(\"Loss : \", mlp_classifier.loss_)\n",
    "print(\"Number of Coefs : \", len(mlp_classifier.coefs_))\n",
    "print(\"Number of Intercepts : \", len(mlp_classifier.intercepts_))\n",
    "print(\"Number of Iterations for Which Estimator Ran : \", mlp_classifier.n_iter_)\n",
    "print(\"Name of Output Layer Activation Function : \", mlp_classifier.out_activation_)"
   ]
  },
  {
   "cell_type": "code",
   "execution_count": 34,
   "id": "804cf92b-944b-4ef1-a48c-c303e5591cc6",
   "metadata": {},
   "outputs": [
    {
     "name": "stdout",
     "output_type": "stream",
     "text": [
      "Mean Squared Error: 7394053997.395516\n",
      "\n",
      "Test Accuracy : -13.476\n",
      "Training Accuracy : -7.163\n",
      "Loss :  3119766206.2951355\n",
      "Number of Coefs :  2\n",
      "Number of Intercepts :  2\n",
      "Number of Iterations for Which Estimator Ran :  500\n",
      "Name of Output Layer Activation Function :  identity\n"
     ]
    },
    {
     "name": "stderr",
     "output_type": "stream",
     "text": [
      "C:\\Users\\masiv\\AppData\\Local\\Programs\\Python\\Python311\\Lib\\site-packages\\sklearn\\neural_network\\_multilayer_perceptron.py:691: ConvergenceWarning: Stochastic Optimizer: Maximum iterations (500) reached and the optimization hasn't converged yet.\n",
      "  warnings.warn(\n"
     ]
    }
   ],
   "source": [
    "# Подготовка данных\n",
    "X = salary_data.drop('Salary', axis=1)\n",
    "y = salary_data['Salary']\n",
    "X_train, X_test, y_train, y_test = train_test_split(X, y, test_size=0.2, random_state=42)\n",
    "\n",
    "# Создание и обучение модели\n",
    "mlp_regressor = MLPRegressor(random_state=42, max_iter=500)\n",
    "mlp_regressor.fit(X_train, y_train)\n",
    "\n",
    "# Предсказание и оценка модели\n",
    "y_pred = mlp_regressor.predict(X_test)\n",
    "print('Mean Squared Error:', mean_squared_error(y_test, y_pred))\n",
    "print('\\nTest Accuracy : %.3f'%mlp_regressor.score(X_test, y_test))\n",
    "print('Training Accuracy : %.3f'%mlp_regressor.score(X_train, y_train))\n",
    "print(\"Loss : \", mlp_regressor.loss_)\n",
    "print(\"Number of Coefs : \", len(mlp_regressor.coefs_))\n",
    "print(\"Number of Intercepts : \", len(mlp_regressor.intercepts_))\n",
    "print(\"Number of Iterations for Which Estimator Ran : \", mlp_regressor.n_iter_)\n",
    "print(\"Name of Output Layer Activation Function : \", mlp_regressor.out_activation_)"
   ]
  }
 ],
 "metadata": {
  "kernelspec": {
   "display_name": "Python 3 (ipykernel)",
   "language": "python",
   "name": "python3"
  },
  "language_info": {
   "codemirror_mode": {
    "name": "ipython",
    "version": 3
   },
   "file_extension": ".py",
   "mimetype": "text/x-python",
   "name": "python",
   "nbconvert_exporter": "python",
   "pygments_lexer": "ipython3",
   "version": "3.11.5"
  }
 },
 "nbformat": 4,
 "nbformat_minor": 5
}
